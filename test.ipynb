{
 "cells": [
  {
   "cell_type": "code",
   "execution_count": 5,
   "id": "ac70648e",
   "metadata": {},
   "outputs": [],
   "source": [
    "with open(\"prompt/system prompt.txt\", 'r') as f:\n",
    "        system_prompt = f.read()"
   ]
  },
  {
   "cell_type": "code",
   "execution_count": 6,
   "id": "f74fed5b",
   "metadata": {},
   "outputs": [
    {
     "name": "stdout",
     "output_type": "stream",
     "text": [
      "\"\"\"\n",
      "You are the INTERVIEWER. You will follow this sequence STRICTLY and ONESTEP AT A TIME:\n",
      "1.  Greet the candidate warmly asking how they are?'\n",
      "2.  Ask one generic (not technical) question at a time based on their job role and years of experience: '<answer>Question 1: [Insert question here]</answer>', waiting for each answer before proceeding to the next.\n",
      "5. After you receive a reply, ask the next generic question, and so on for all 10 questions.\n",
      "NEVER ask more than one question at once. NEVER include your reasoning or thinking process. ALWAYS wait for the candidateâ€™s reply after each question. ALWAYS ask only related question which is based on candidate job description, experience and their previous answers.  ALWAYS use <answer> tags for questions.\n",
      "\"\"\"\n"
     ]
    }
   ],
   "source": [
    "print(system_prompt)"
   ]
  },
  {
   "cell_type": "code",
   "execution_count": null,
   "id": "7a74ce8c",
   "metadata": {},
   "outputs": [],
   "source": []
  }
 ],
 "metadata": {
  "kernelspec": {
   "display_name": "venv",
   "language": "python",
   "name": "venv"
  },
  "language_info": {
   "codemirror_mode": {
    "name": "ipython",
    "version": 3
   },
   "file_extension": ".py",
   "mimetype": "text/x-python",
   "name": "python",
   "nbconvert_exporter": "python",
   "pygments_lexer": "ipython3",
   "version": "3.13.2"
  }
 },
 "nbformat": 4,
 "nbformat_minor": 5
}
